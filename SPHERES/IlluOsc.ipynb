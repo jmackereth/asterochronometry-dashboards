{
 "cells": [
  {
   "cell_type": "code",
   "execution_count": 1,
   "metadata": {},
   "outputs": [],
   "source": [
    "import matplotlib.pyplot as plt\n",
    "from mpl_toolkits.mplot3d import Axes3D\n",
    "import matplotlib\n",
    "from matplotlib.colors import LightSource\n",
    "import matplotlib.cm as cm\n",
    "import matplotlib.gridspec as gridspec\n",
    "import numpy as np\n",
    "import scipy.special as sp\n",
    "from mpl_toolkits.basemap import Basemap\n",
    "import pandas as pd\n",
    "from matplotlib import rcParams\n",
    "rcParams['text.usetex'] = True\n",
    "import ipywidgets as widgets\n",
    "from matplotlib import rc\n",
    "import glob\n",
    "import os, imageio\n",
    "from ipywidgets import interactive\n",
    "from ipywidgets import interact, interact_manual\n",
    "#import warnings; warnings.simplefilter('ignore')\n",
    "#import textwrap as tw\n",
    "rcParams['animation.html'] = 'html5'"
   ]
  },
  {
   "cell_type": "code",
   "execution_count": 2,
   "metadata": {},
   "outputs": [],
   "source": [
    "def drawsphere(l,m,rotation=0,cent_lat=45,cent_lon=-100):\n",
    "\n",
    "    # This function is originally found on https://stackoverflow.com/questions/34397418/python-combine-plots-in-grid\n",
    "    # Only slightly adapted\n",
    "    \n",
    "    res = np.pi/250 # resolution\n",
    "\n",
    "    theta = np.r_[0:2*np.pi:res]+rotation\n",
    "    phi = np.r_[0:np.pi:res] # theta: lon, phi: coalt\n",
    "\n",
    "    coef = []\n",
    "    for i in theta:\n",
    "        for j in phi:\n",
    "            coef.append(sp.sph_harm(m,l,i,j))\n",
    "    coef = np.asarray(coef) # convert list to array\n",
    "    coef = np.reshape(coef, (len(theta),-1)) # reshapte array as per number of angles\n",
    "\n",
    "    ## Plotting ##\n",
    "\n",
    "    # create latitude/longitude arrays\n",
    "    lon = np.linspace(0,2*np.pi,len(theta))\n",
    "    lat = np.linspace(-np.pi/2,np.pi/2,len(phi))\n",
    "    colat = lat+np.pi/2 # colatitude array\n",
    "    # create 2D meshgrid\n",
    "    mesh_grid = np.meshgrid(lon, lat) # create a meshgrid out of lat/lon\n",
    "    lon_grid = mesh_grid[0] # grab the meshgrid part for lon\n",
    "    lat_grid = mesh_grid[1] # grab the meshgrid part for lat\n",
    "\n",
    "    real_coef = np.real(coef) # read parts of the coefficients\n",
    "    norm_coef = np.round(real_coef / np.max(real_coef),2) # normalize\n",
    "    # set up orthographic map projection\n",
    "    mp = Basemap(projection='ortho', lat_0 = cent_lat, lon_0 = cent_lon) \n",
    "    # setup an orthographic basemap centered at lat_0 & lon_0\n",
    "    # draw the edge of the map projection region (the projection limb)\n",
    "    mp.drawmapboundary()\n",
    "\n",
    "    # convert angles from radians to degrees & pipe them to basemap\n",
    "    x,y = mp(np.degrees(lon_grid), np.degrees(lat_grid)) \n",
    "    # cax = figure.add_axes([0.15,0.03,0.7,0.03])\n",
    "#         cb = plt.colorbar(orientation = 'horizontal')\n",
    "    return mp,x, y, norm_coef"
   ]
  },
  {
   "cell_type": "code",
   "execution_count": 3,
   "metadata": {},
   "outputs": [],
   "source": [
    "def gif_maker(gif_name,png_dir,gif_indx,num_gifs,dpi=90):\n",
    "\n",
    "    # This function is taken from https://github.com/makerportal/rotating_globe\n",
    "    # Only very minor changes\n",
    "    \n",
    "    if gif_indx==num_gifs-1:\n",
    "        # sort the .png files based on index used above\n",
    "        images,image_file_names = [],[]\n",
    "        for file_name in os.listdir(png_dir):\n",
    "            if file_name.endswith('.png'):\n",
    "                image_file_names.append(file_name)       \n",
    "        sorted_files = sorted(image_file_names, key=lambda y: int(y.split('_')[1]))\n",
    "\n",
    "        # define some GIF parameters\n",
    "        \n",
    "        frame_length = 0.1 # seconds between frames\n",
    "        end_pause = 0.1 # seconds to stay on last frame\n",
    "        # loop through files, join them to image array, and write to GIF called 'wind_turbine_dist.gif'\n",
    "        for ii in range(0,len(sorted_files)):       \n",
    "            file_path = os.path.join(png_dir, sorted_files[ii])\n",
    "            if ii==len(sorted_files)-1:\n",
    "                for jj in range(0,int(end_pause/frame_length)):\n",
    "                    images.append(imageio.imread(file_path))\n",
    "            else:\n",
    "                images.append(imageio.imread(file_path))\n",
    "        # the duration is the time spent on each image (1/duration is frame rate)\n",
    "        imageio.mimsave(gif_name, images,'GIF',duration=frame_length)"
   ]
  },
  {
   "cell_type": "code",
   "execution_count": 4,
   "metadata": {},
   "outputs": [],
   "source": [
    "def drawone(l,m):\n",
    "    cmap = cm.get_cmap('plasma') # Set color map\n",
    "    mp, x, y, norm_coef = drawsphere(l,m)\n",
    "    mp.pcolor(x,y,np.transpose(norm_coef), cmap=cmap)"
   ]
  },
  {
   "cell_type": "code",
   "execution_count": 5,
   "metadata": {},
   "outputs": [],
   "source": [
    "setl = widgets.IntSlider(\n",
    "        value=6,\n",
    "        min=0,\n",
    "        max=12,\n",
    "        description=r'$\\ell: $',\n",
    "        disabled=False,\n",
    "        continuous_update=True,\n",
    "        orientation='horizontal',\n",
    "        readout=True,\n",
    "  )"
   ]
  },
  {
   "cell_type": "code",
   "execution_count": 6,
   "metadata": {},
   "outputs": [],
   "source": [
    "setm = widgets.IntSlider(\n",
    "        value=setl.value,\n",
    "        min=0,\n",
    "        max=max([0,setl.value-1]),\n",
    "        description=r'$m: $',\n",
    "        disabled=False,\n",
    "        continuous_update=True,\n",
    "        orientation='horizontal',\n",
    "        readout=True,\n",
    "  )"
   ]
  },
  {
   "cell_type": "markdown",
   "metadata": {},
   "source": [
    "### Stellar Oscillations\n"
   ]
  },
  {
   "cell_type": "code",
   "execution_count": 7,
   "metadata": {},
   "outputs": [
    {
     "data": {
      "application/vnd.jupyter.widget-view+json": {
       "model_id": "d2bf92e399d14071991acc99eed411e9",
       "version_major": 2,
       "version_minor": 0
      },
      "text/plain": [
       "interactive(children=(IntSlider(value=6, description='$\\\\ell: $', max=12), IntSlider(value=5, description='$m:…"
      ]
     },
     "metadata": {},
     "output_type": "display_data"
    }
   ],
   "source": [
    "_ = interact(drawone,l=setl,m=setm)\n",
    "\n",
    "\n",
    "#rotation = np.linspace(0,2*np.pi,50)\n",
    "#png_dir=\"./png_dir/\"\n",
    "#gif_indx = 0"
   ]
  },
  {
   "cell_type": "code",
   "execution_count": 8,
   "metadata": {},
   "outputs": [],
   "source": [
    "#for r in rotation: \n",
    "#    plt.cla()\n",
    "#    fig = plt.gcf()\n",
    "#    fig_size = fig.get_size_inches()    \n",
    "#    mp, x, y, norm_coef = drawsphere(l,m,rotation=r)\n",
    "#    mp.pcolor(x,y,np.transpose(norm_coef),cmap=cmap)\n",
    "#    bbox = matplotlib.transforms.Bbox([[0.0,0.0],[fig_size[0],fig_size[1]]])\n",
    "#    plt.savefig(png_dir+'frame_'+str(gif_indx)+'_.png',dpi=90,facecolor=fig.get_facecolor(),bbox_inches=bbox,pad_inches=1)\n",
    "#    plt.close()\n",
    "#    plt.ioff()\n",
    "#    #show the plot, introduce a small delay to allow matplotlib to catch up\n",
    "#    gif_indx+=1\n",
    "#    gif_maker(\"movie_l\"+str(l)+\"m\"+str(m)+\".gif\",png_dir,gif_indx,num_gifs=len(rotation),dpi=3000)\n",
    "#files = glob.glob(png_dir+'/*png')\n",
    "#for f in files:\n",
    "#    os.remove(f)"
   ]
  },
  {
   "cell_type": "code",
   "execution_count": null,
   "metadata": {},
   "outputs": [],
   "source": [
    "\n",
    "\n",
    "\n",
    "\n"
   ]
  },
  {
   "cell_type": "code",
   "execution_count": null,
   "metadata": {},
   "outputs": [],
   "source": []
  }
 ],
 "metadata": {
  "kernelspec": {
   "display_name": "Python 3",
   "language": "python",
   "name": "python3"
  },
  "language_info": {
   "codemirror_mode": {
    "name": "ipython",
    "version": 3
   },
   "file_extension": ".py",
   "mimetype": "text/x-python",
   "name": "python",
   "nbconvert_exporter": "python",
   "pygments_lexer": "ipython3",
   "version": "3.7.4"
  }
 },
 "nbformat": 4,
 "nbformat_minor": 4
}
